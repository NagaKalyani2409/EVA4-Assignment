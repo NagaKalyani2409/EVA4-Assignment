{
  "nbformat": 4,
  "nbformat_minor": 0,
  "metadata": {
    "colab": {
      "name": "Yolo_KMeans(Solution B) .ipynb",
      "provenance": []
    },
    "kernelspec": {
      "name": "python3",
      "display_name": "Python 3"
    }
  },
  "cells": [
    {
      "cell_type": "code",
      "metadata": {
        "id": "6-r-nTWejoxp",
        "colab_type": "code",
        "colab": {
          "base_uri": "https://localhost:8080/",
          "height": 51
        },
        "outputId": "6cbde6ca-7545-49fa-c192-158cfb4acd97"
      },
      "source": [
        "from google.colab import drive\n",
        "drive.mount('/content/gdrive')\n",
        "%cd /content/gdrive/My\\ Drive/EVA4"
      ],
      "execution_count": 75,
      "outputs": [
        {
          "output_type": "stream",
          "text": [
            "Drive already mounted at /content/gdrive; to attempt to forcibly remount, call drive.mount(\"/content/gdrive\", force_remount=True).\n",
            "/content/gdrive/My Drive/EVA4\n"
          ],
          "name": "stdout"
        }
      ]
    },
    {
      "cell_type": "code",
      "metadata": {
        "id": "Abo8rrGdjVuK",
        "colab_type": "code",
        "colab": {}
      },
      "source": [
        "import pandas as pd\n",
        "import numpy as np\n",
        "import matplotlib.pyplot as plt\n",
        "import math\n",
        "import os\n",
        "import json\n",
        "from skimage import io\n",
        "from tqdm.notebook import tqdm, trange\n",
        "path = \"./dogs/\"\n",
        "annotations = json.load(open('Annotations.json'))"
      ],
      "execution_count": 0,
      "outputs": []
    },
    {
      "cell_type": "code",
      "metadata": {
        "id": "q_f1zmyHsz4K",
        "colab_type": "code",
        "colab": {}
      },
      "source": [
        "sizedict = {}\n",
        "for filename in os.listdir(path):\n",
        "  image = io.imread(f'{path}{filename}', as_gray=False, pilmode=\"RGB\")\n",
        "  sizedict[filename] = image.shape[:2]\n",
        "  \n",
        "#df = pd.DataFrame.from_dict(json_normalize(annotations), orient='columns')\n",
        "#df = pd.io.json.json_normalize(annotations)\n",
        "#df = pd.DataFrame.from_dict(json_normalize(annotations['img_1.jfif4462']), orient='columns')\n",
        "#annotations.keys()\n",
        "#json_normalize(raw, [['_source', 'filename']])\n",
        "#df.columns = df.columns.map(lambda x: x.split(\".\")[-1])\n",
        "#df = df.pivot_table(df)\n",
        "#annotations.items()\n"
      ],
      "execution_count": 0,
      "outputs": []
    },
    {
      "cell_type": "markdown",
      "metadata": {
        "id": "HFqxerKffW1d",
        "colab_type": "text"
      },
      "source": [
        "#Converting json file to dataframe"
      ]
    },
    {
      "cell_type": "code",
      "metadata": {
        "id": "-gKr4ceYjVZB",
        "colab_type": "code",
        "colab": {
          "base_uri": "https://localhost:8080/",
          "height": 204
        },
        "outputId": "55423869-8e94-488a-8d67-df57fb5959cf"
      },
      "source": [
        "\n",
        "df = pd.DataFrame()\n",
        "dataset = []\n",
        "for k, v in annotations.items():\n",
        "  for r in v['regions']:\n",
        "    fn = {'name': v['filename']}\n",
        "    shape = r['shape_attributes']\n",
        "    h, w = sizedict[v['filename']]\n",
        "    fn['image_w'] = w\n",
        "    fn['image_h'] = h\n",
        "    fn['height'] = shape['height']/h\n",
        "    fn['width'] = shape['width']/w\n",
        "    fn['log_height'] = math.log(fn['height']/h)\n",
        "    fn['log_width'] = math.log(fn['width']/h)\n",
        "    dataset.append(fn)\n",
        "\n",
        "df = pd.DataFrame.from_dict(dataset, orient='columns')\n",
        "df.head()\n",
        "\n"
      ],
      "execution_count": 78,
      "outputs": [
        {
          "output_type": "execute_result",
          "data": {
            "text/html": [
              "<div>\n",
              "<style scoped>\n",
              "    .dataframe tbody tr th:only-of-type {\n",
              "        vertical-align: middle;\n",
              "    }\n",
              "\n",
              "    .dataframe tbody tr th {\n",
              "        vertical-align: top;\n",
              "    }\n",
              "\n",
              "    .dataframe thead th {\n",
              "        text-align: right;\n",
              "    }\n",
              "</style>\n",
              "<table border=\"1\" class=\"dataframe\">\n",
              "  <thead>\n",
              "    <tr style=\"text-align: right;\">\n",
              "      <th></th>\n",
              "      <th>name</th>\n",
              "      <th>image_w</th>\n",
              "      <th>image_h</th>\n",
              "      <th>height</th>\n",
              "      <th>width</th>\n",
              "      <th>log_height</th>\n",
              "      <th>log_width</th>\n",
              "    </tr>\n",
              "  </thead>\n",
              "  <tbody>\n",
              "    <tr>\n",
              "      <th>0</th>\n",
              "      <td>img_1.jfif</td>\n",
              "      <td>349</td>\n",
              "      <td>144</td>\n",
              "      <td>0.951389</td>\n",
              "      <td>0.555874</td>\n",
              "      <td>-5.019646</td>\n",
              "      <td>-5.557027</td>\n",
              "    </tr>\n",
              "    <tr>\n",
              "      <th>1</th>\n",
              "      <td>img_2.jfif</td>\n",
              "      <td>290</td>\n",
              "      <td>174</td>\n",
              "      <td>0.977011</td>\n",
              "      <td>0.341379</td>\n",
              "      <td>-5.182312</td>\n",
              "      <td>-6.233816</td>\n",
              "    </tr>\n",
              "    <tr>\n",
              "      <th>2</th>\n",
              "      <td>img_3.jfif</td>\n",
              "      <td>300</td>\n",
              "      <td>168</td>\n",
              "      <td>0.827381</td>\n",
              "      <td>0.430000</td>\n",
              "      <td>-5.313454</td>\n",
              "      <td>-5.967934</td>\n",
              "    </tr>\n",
              "    <tr>\n",
              "      <th>3</th>\n",
              "      <td>img_4.jfif</td>\n",
              "      <td>300</td>\n",
              "      <td>168</td>\n",
              "      <td>0.648810</td>\n",
              "      <td>0.393333</td>\n",
              "      <td>-5.556580</td>\n",
              "      <td>-6.057062</td>\n",
              "    </tr>\n",
              "    <tr>\n",
              "      <th>4</th>\n",
              "      <td>img_5.jpg</td>\n",
              "      <td>1080</td>\n",
              "      <td>675</td>\n",
              "      <td>0.782222</td>\n",
              "      <td>0.651852</td>\n",
              "      <td>-6.760329</td>\n",
              "      <td>-6.942651</td>\n",
              "    </tr>\n",
              "  </tbody>\n",
              "</table>\n",
              "</div>"
            ],
            "text/plain": [
              "         name  image_w  image_h    height     width  log_height  log_width\n",
              "0  img_1.jfif      349      144  0.951389  0.555874   -5.019646  -5.557027\n",
              "1  img_2.jfif      290      174  0.977011  0.341379   -5.182312  -6.233816\n",
              "2  img_3.jfif      300      168  0.827381  0.430000   -5.313454  -5.967934\n",
              "3  img_4.jfif      300      168  0.648810  0.393333   -5.556580  -6.057062\n",
              "4   img_5.jpg     1080      675  0.782222  0.651852   -6.760329  -6.942651"
            ]
          },
          "metadata": {
            "tags": []
          },
          "execution_count": 78
        }
      ]
    },
    {
      "cell_type": "code",
      "metadata": {
        "id": "ib-ISCdwGkSL",
        "colab_type": "code",
        "colab": {
          "base_uri": "https://localhost:8080/",
          "height": 297
        },
        "outputId": "fcc84720-7a10-48f6-876e-c15a69a45915"
      },
      "source": [
        "plt.scatter(df.width, df.height)\n",
        "plt.xlabel('width')\n",
        "plt.ylabel('height')\n"
      ],
      "execution_count": 79,
      "outputs": [
        {
          "output_type": "execute_result",
          "data": {
            "text/plain": [
              "Text(0, 0.5, 'height')"
            ]
          },
          "metadata": {
            "tags": []
          },
          "execution_count": 79
        },
        {
          "output_type": "display_data",
          "data": {
            "image/png": "[encoded data removed]",
            "text/plain": [
              "<Figure size 432x288 with 1 Axes>"
            ]
          },
          "metadata": {
            "tags": [],
            "needs_background": "light"
          }
        }
      ]
    },
    {
      "cell_type": "code",
      "metadata": {
        "id": "zF_dnX7FHIT1",
        "colab_type": "code",
        "colab": {
          "base_uri": "https://localhost:8080/",
          "height": 296
        },
        "outputId": "05c29dac-4d28-435f-d5e0-712bf0498514"
      },
      "source": [
        "plt.scatter(df.log_width, df.log_height)\n",
        "plt.xlabel('log(width)')\n",
        "plt.ylabel('log(height)')"
      ],
      "execution_count": 80,
      "outputs": [
        {
          "output_type": "execute_result",
          "data": {
            "text/plain": [
              "Text(0, 0.5, 'log(height)')"
            ]
          },
          "metadata": {
            "tags": []
          },
          "execution_count": 80
        },
        {
          "output_type": "display_data",
          "data": {
            "image/png": "[encoded data removed]",
            "text/plain": [
              "<Figure size 432x288 with 1 Axes>"
            ]
          },
          "metadata": {
            "tags": [],
            "needs_background": "light"
          }
        }
      ]
    },
    {
      "cell_type": "code",
      "metadata": {
        "id": "jYzpjZvLfOZx",
        "colab_type": "code",
        "colab": {}
      },
      "source": [
        "from sklearn.cluster import KMeans\n",
        "\n",
        "X = df[['width', 'height']].to_numpy()"
      ],
      "execution_count": 0,
      "outputs": []
    },
    {
      "cell_type": "markdown",
      "metadata": {
        "id": "smkgwMZVfG1R",
        "colab_type": "text"
      },
      "source": [
        "#KMeans for the annotated dataset"
      ]
    },
    {
      "cell_type": "code",
      "metadata": {
        "id": "wwnTaHk_RSYs",
        "colab_type": "code",
        "colab": {}
      },
      "source": [
        "class KMeans:\n",
        "    \"\"\"K-Means clustering algorithm.\"\"\"\n",
        "\n",
        "    def __init__(self, num_clusters, points, iterations):\n",
        "        \"\"\"Initialize parameters of the algorithm.\n",
        "\n",
        "        Args:\n",
        "            num_clusters (int): Number of clusters to\n",
        "                segment the data into.\n",
        "            points (numpy.ndarray): Points in the dataset.\n",
        "            iterations (int): Number of iterations for\n",
        "                running the algorithm.\n",
        "        \"\"\"\n",
        "        self.num_clusters = num_clusters\n",
        "        self.points = points\n",
        "        self.iterations = iterations\n",
        "\n",
        "        self.centroids = self.initialize_centroids()\n",
        "        self.closest = None\n",
        "        self.mean_iou = None\n",
        "\n",
        "        self.find_clusters()\n",
        "        self.iou()\n",
        "\n",
        "    def initialize_centroids(self):\n",
        "        \"\"\"Select random inital centroids from the points.\n",
        "        \n",
        "        Returns:\n",
        "            Array containing initial centroids.\n",
        "        \"\"\"\n",
        "        centroids = self.points.copy()\n",
        "        np.random.shuffle(centroids)\n",
        "        return centroids[:self.num_clusters]\n",
        "\n",
        "    def closest_centroid(self):\n",
        "        \"\"\"Find the closest centroid for each point in the dataset.\"\"\"\n",
        "        distances = np.sqrt(\n",
        "            ((self.points - self.centroids[:, np.newaxis]) ** 2).sum(axis=2)\n",
        "        )\n",
        "        self.closest = np.argmin(distances, axis=0)\n",
        "\n",
        "    def move_centroids(self):\n",
        "        \"\"\"Find new centroids based on the points in the cluser.\"\"\"\n",
        "        self.centroids =  np.array([\n",
        "            self.points[self.closest == k].mean(axis=0)\n",
        "            for k in range(self.centroids.shape[0])\n",
        "        ])\n",
        "    \n",
        "    def find_clusters(self):\n",
        "        \"\"\"Run the K-Means algorithm.\"\"\"\n",
        "        for _ in range(self.iterations):\n",
        "            self.closest_centroid()\n",
        "            self.move_centroids()\n",
        "    \n",
        "    def iou(self):\n",
        "        \"\"\"Calculate Intersection over Union (IoU) for each point\n",
        "        with its closest centroid.\"\"\"\n",
        "        closest_centroids = self.centroids[self.closest]\n",
        "        width = np.minimum(\n",
        "            closest_centroids[:, 0], self.points[:, 0]\n",
        "        )\n",
        "        height = np.minimum(\n",
        "            closest_centroids[:, 1], self.points[:, 1]\n",
        "        )\n",
        "\n",
        "        intersection = width * height\n",
        "        points_area = self.points[:, 0] * self.points[:, 1]\n",
        "        cluster_area = closest_centroids[:, 0] * closest_centroids[:, 1]\n",
        "\n",
        "        self.mean_iou = np.mean(\n",
        "            intersection / (points_area + cluster_area - intersection)\n",
        "        )\n",
        "        "
      ],
      "execution_count": 0,
      "outputs": []
    },
    {
      "cell_type": "code",
      "metadata": {
        "id": "OxuORztwZ84p",
        "colab_type": "code",
        "colab": {}
      },
      "source": [
        "iou_list = []\n",
        "kmeans_model = {}\n",
        "\n",
        "# Range of number of clusters to try out\n",
        "num_clusters_start = 1\n",
        "num_clusters_end = 16\n",
        "\n",
        "# Number of iterations to run each pass\n",
        "iterations = 300\n",
        "# Run K-Means for each range of number of clusters\n",
        "for k in range(num_clusters_start, num_clusters_end + 1):\n",
        "    kmeans_model[k + 1] = KMeans(k + 1, X, iterations)\n",
        "    iou_list.append(kmeans_model[k + 1].mean_iou)"
      ],
      "execution_count": 0,
      "outputs": []
    },
    {
      "cell_type": "code",
      "metadata": {
        "id": "QY7E3JNMKEmz",
        "colab_type": "code",
        "colab": {
          "base_uri": "https://localhost:8080/",
          "height": 295
        },
        "outputId": "64d8098b-7d0c-4c9f-a718-49965e80ccce"
      },
      "source": [
        "#fig = plt.figure(figsize=(9, 5))\n",
        "def display_clusters(kmeans):\n",
        "    num_clusters = kmeans.num_clusters\n",
        "\n",
        "    # Plot points for each cluster\n",
        "    for cluster_id in range(num_clusters):\n",
        "        points = kmeans.points[kmeans.closest == cluster_id]\n",
        "        plt.scatter(points[:, 0], points[:, 1])\n",
        "    \n",
        "    # Plot centroids\n",
        "    plt.scatter(kmeans.centroids[:, 0], kmeans.centroids[:, 1], c='black', s=90, marker='x')\n",
        "    plt.xlabel('width')\n",
        "    plt.ylabel('height')\n",
        "    plt.title(f'Cluster Plot for k = {num_clusters}')\n",
        "\n",
        "    # Save figure\n",
        "    plt.savefig(f'cluster_plot_k{num_clusters}.png')\n",
        "_ = plt.plot(iou_list, '-s', markeredgecolor='green', markeredgewidth=3)\n",
        "\n",
        "plt.xlabel('Number of Clusters (k)')\n",
        "plt.ylabel('Mean IoU')\n",
        "\n",
        "plt.xticks(np.arange(len(iou_list)), np.arange(1, len(iou_list)+1))\n",
        "plt.title('Number of Clusters vs Mean IoU')\n",
        "fig.savefig('kmeans iou.png')"
      ],
      "execution_count": 94,
      "outputs": [
        {
          "output_type": "display_data",
          "data": {
            "image/png": "[encoded data removed]",
            "text/plain": [
              "<Figure size 432x288 with 1 Axes>"
            ]
          },
          "metadata": {
            "tags": [],
            "needs_background": "light"
          }
        }
      ]
    },
    {
      "cell_type": "code",
      "metadata": {
        "id": "fxnbKnVHsGvp",
        "colab_type": "code",
        "colab": {
          "base_uri": "https://localhost:8080/",
          "height": 295
        },
        "outputId": "ea54a701-3549-4383-dd49-8ad4d0d2adb5"
      },
      "source": [
        "display_clusters(kmeans_model[4])"
      ],
      "execution_count": 95,
      "outputs": [
        {
          "output_type": "display_data",
          "data": {
            "image/png": "[encoded data removed]",
            "text/plain": [
              "<Figure size 432x288 with 1 Axes>"
            ]
          },
          "metadata": {
            "tags": [],
            "needs_background": "light"
          }
        }
      ]
    },
    {
      "cell_type": "code",
      "metadata": {
        "id": "GX9XjCUMh5Sp",
        "colab_type": "code",
        "colab": {}
      },
      "source": [
        ""
      ],
      "execution_count": 0,
      "outputs": []
    }
  ]
}